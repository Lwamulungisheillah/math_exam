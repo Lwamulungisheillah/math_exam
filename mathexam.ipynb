{
 "cells": [
  {
   "cell_type": "code",
   "execution_count": 1,
   "metadata": {},
   "outputs": [
    {
     "name": "stdout",
     "output_type": "stream",
     "text": [
      "[[1.  0.2 0.5]\n",
      " [0.2 1.  0.8]\n",
      " [0.5 0.8 1. ]]\n",
      "[[ 1.56521739  0.86956522 -1.47826087]\n",
      " [ 0.86956522  3.26086957 -3.04347826]\n",
      " [-1.47826087 -3.04347826  4.17391304]]\n",
      " the deternimant is 0.2299999999999999\n"
     ]
    }
   ],
   "source": [
    "#question 4\n",
    "#construction of the matrix\n",
    "# a 3x3 matrix as a numpy array\n",
    "\n",
    "import numpy as np\n",
    "import math\n",
    "\n",
    "my_matrix = np.array([[1, 0.2,0.5],[0.2,1,0.8],[0.5,0.8,1]])\n",
    "print(my_matrix)\n",
    "\n",
    "#(a)\n",
    "#inversing the matrix\n",
    "inverse=np.linalg.inv(my_matrix)\n",
    "print(inverse)\n",
    "\n",
    "\n",
    "#(b)\n",
    "#determinant of the above matrix\n",
    "determinat=np.linalg.det(my_matrix)\n",
    "print(f' the deternimant is {determinat}')\n",
    "\n",
    "# #(c)\n",
    "# #decomposing the matrix\n",
    "# decom=np.dot(my_matrix)\n",
    "# print(decom)\n",
    "\n",
    "#(e)\n",
    "#transforming the matrix\n",
    "\n"
   ]
  },
  {
   "cell_type": "code",
   "execution_count": 3,
   "metadata": {},
   "outputs": [
    {
     "name": "stdout",
     "output_type": "stream",
     "text": [
      "[ 7.5 -1. ]\n"
     ]
    }
   ],
   "source": [
    "#question 5\n",
    "#python program solving any 3 linear equations using matrices\n",
    "# 2 solving 2x + 5y =10 2x + 6y=9\n",
    "import numpy as np\n",
    "\n",
    "w=np.array([[2,5],[2,6]])\n",
    "z=np.array([10,9])\n",
    "soln=np.linalg.solve(w,z)\n",
    "print(soln)\n"
   ]
  }
 ],
 "metadata": {
  "kernelspec": {
   "display_name": "base",
   "language": "python",
   "name": "python3"
  },
  "language_info": {
   "codemirror_mode": {
    "name": "ipython",
    "version": 3
   },
   "file_extension": ".py",
   "mimetype": "text/x-python",
   "name": "python",
   "nbconvert_exporter": "python",
   "pygments_lexer": "ipython3",
   "version": "3.11.4"
  }
 },
 "nbformat": 4,
 "nbformat_minor": 2
}
